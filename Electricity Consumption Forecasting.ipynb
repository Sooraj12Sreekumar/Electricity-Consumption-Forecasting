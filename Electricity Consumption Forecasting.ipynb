{
 "cells": [
  {
   "cell_type": "markdown",
   "id": "127005da",
   "metadata": {},
   "source": [
    "IMPORTING THE MODULES NEEDED FOR THE MODEL"
   ]
  },
  {
   "cell_type": "code",
   "execution_count": 1,
   "id": "2ae8e1a2",
   "metadata": {},
   "outputs": [],
   "source": [
    "import pandas as pd\n",
    "import numpy as np\n",
    "import matplotlib.pyplot as plt\n",
    "import statsmodels.api as sm\n",
    "from statsmodels.tsa.stattools import adfuller\n",
    "from statsmodels.graphics.tsaplots import plot_acf, plot_pacf\n",
    "from statsmodels.tsa.arima.model import ARIMA\n",
    "from sklearn.metrics import mean_squared_error"
   ]
  },
  {
   "cell_type": "markdown",
   "id": "3315935a",
   "metadata": {},
   "source": [
    "LOADING THE DATASET"
   ]
  },
  {
   "cell_type": "code",
   "execution_count": 2,
   "id": "fe07080b",
   "metadata": {},
   "outputs": [],
   "source": [
    "df=pd.read_excel('Electric_Production.xlsx')"
   ]
  },
  {
   "cell_type": "code",
   "execution_count": 3,
   "id": "9381513d",
   "metadata": {},
   "outputs": [
    {
     "data": {
      "text/html": [
       "<div>\n",
       "<style scoped>\n",
       "    .dataframe tbody tr th:only-of-type {\n",
       "        vertical-align: middle;\n",
       "    }\n",
       "\n",
       "    .dataframe tbody tr th {\n",
       "        vertical-align: top;\n",
       "    }\n",
       "\n",
       "    .dataframe thead th {\n",
       "        text-align: right;\n",
       "    }\n",
       "</style>\n",
       "<table border=\"1\" class=\"dataframe\">\n",
       "  <thead>\n",
       "    <tr style=\"text-align: right;\">\n",
       "      <th></th>\n",
       "      <th>DATE</th>\n",
       "      <th>Value</th>\n",
       "    </tr>\n",
       "  </thead>\n",
       "  <tbody>\n",
       "    <tr>\n",
       "      <th>0</th>\n",
       "      <td>1985-01-01</td>\n",
       "      <td>72.5052</td>\n",
       "    </tr>\n",
       "    <tr>\n",
       "      <th>1</th>\n",
       "      <td>1985-01-02</td>\n",
       "      <td>70.6720</td>\n",
       "    </tr>\n",
       "    <tr>\n",
       "      <th>2</th>\n",
       "      <td>1985-01-03</td>\n",
       "      <td>62.4502</td>\n",
       "    </tr>\n",
       "    <tr>\n",
       "      <th>3</th>\n",
       "      <td>1985-01-04</td>\n",
       "      <td>57.4714</td>\n",
       "    </tr>\n",
       "    <tr>\n",
       "      <th>4</th>\n",
       "      <td>1985-01-05</td>\n",
       "      <td>55.3151</td>\n",
       "    </tr>\n",
       "  </tbody>\n",
       "</table>\n",
       "</div>"
      ],
      "text/plain": [
       "        DATE    Value\n",
       "0 1985-01-01  72.5052\n",
       "1 1985-01-02  70.6720\n",
       "2 1985-01-03  62.4502\n",
       "3 1985-01-04  57.4714\n",
       "4 1985-01-05  55.3151"
      ]
     },
     "execution_count": 3,
     "metadata": {},
     "output_type": "execute_result"
    }
   ],
   "source": [
    "df.head()"
   ]
  },
  {
   "cell_type": "code",
   "execution_count": 4,
   "id": "6211905d",
   "metadata": {},
   "outputs": [
    {
     "data": {
      "text/html": [
       "<div>\n",
       "<style scoped>\n",
       "    .dataframe tbody tr th:only-of-type {\n",
       "        vertical-align: middle;\n",
       "    }\n",
       "\n",
       "    .dataframe tbody tr th {\n",
       "        vertical-align: top;\n",
       "    }\n",
       "\n",
       "    .dataframe thead th {\n",
       "        text-align: right;\n",
       "    }\n",
       "</style>\n",
       "<table border=\"1\" class=\"dataframe\">\n",
       "  <thead>\n",
       "    <tr style=\"text-align: right;\">\n",
       "      <th></th>\n",
       "      <th>DATE</th>\n",
       "      <th>Value</th>\n",
       "    </tr>\n",
       "  </thead>\n",
       "  <tbody>\n",
       "    <tr>\n",
       "      <th>392</th>\n",
       "      <td>2017-01-09</td>\n",
       "      <td>98.6154</td>\n",
       "    </tr>\n",
       "    <tr>\n",
       "      <th>393</th>\n",
       "      <td>2017-01-10</td>\n",
       "      <td>93.6137</td>\n",
       "    </tr>\n",
       "    <tr>\n",
       "      <th>394</th>\n",
       "      <td>2017-01-11</td>\n",
       "      <td>97.3359</td>\n",
       "    </tr>\n",
       "    <tr>\n",
       "      <th>395</th>\n",
       "      <td>2017-01-12</td>\n",
       "      <td>114.7212</td>\n",
       "    </tr>\n",
       "    <tr>\n",
       "      <th>396</th>\n",
       "      <td>2018-01-01</td>\n",
       "      <td>129.4048</td>\n",
       "    </tr>\n",
       "  </tbody>\n",
       "</table>\n",
       "</div>"
      ],
      "text/plain": [
       "          DATE     Value\n",
       "392 2017-01-09   98.6154\n",
       "393 2017-01-10   93.6137\n",
       "394 2017-01-11   97.3359\n",
       "395 2017-01-12  114.7212\n",
       "396 2018-01-01  129.4048"
      ]
     },
     "execution_count": 4,
     "metadata": {},
     "output_type": "execute_result"
    }
   ],
   "source": [
    "df.tail()"
   ]
  },
  {
   "cell_type": "code",
   "execution_count": 5,
   "id": "03499201",
   "metadata": {},
   "outputs": [],
   "source": [
    "df.columns=['Date', 'Consumption']\n",
    "df=df.dropna()\n",
    "df['Date'] = pd.to_datetime(df['Date'])\n",
    "df.set_index('Date', inplace=True)#set date as index"
   ]
  },
  {
   "cell_type": "code",
   "execution_count": 6,
   "id": "8b47e482",
   "metadata": {},
   "outputs": [
    {
     "data": {
      "text/plain": [
       "(397, 1)"
      ]
     },
     "execution_count": 6,
     "metadata": {},
     "output_type": "execute_result"
    }
   ],
   "source": [
    "df.shape"
   ]
  },
  {
   "cell_type": "markdown",
   "id": "fecfd610",
   "metadata": {},
   "source": [
    "TO FIND NULL VALUES"
   ]
  },
  {
   "cell_type": "code",
   "execution_count": 7,
   "id": "8509d7fc",
   "metadata": {},
   "outputs": [
    {
     "data": {
      "text/plain": [
       "Consumption    0\n",
       "dtype: int64"
      ]
     },
     "execution_count": 7,
     "metadata": {},
     "output_type": "execute_result"
    }
   ],
   "source": [
    "df.isnull().sum()"
   ]
  },
  {
   "cell_type": "code",
   "execution_count": 8,
   "id": "0b3f2a34",
   "metadata": {},
   "outputs": [
    {
     "data": {
      "text/plain": [
       "Consumption    float64\n",
       "dtype: object"
      ]
     },
     "execution_count": 8,
     "metadata": {},
     "output_type": "execute_result"
    }
   ],
   "source": [
    "df.dtypes"
   ]
  },
  {
   "cell_type": "markdown",
   "id": "b984ce0a",
   "metadata": {},
   "source": [
    "DATA DESCRIPTION"
   ]
  },
  {
   "cell_type": "code",
   "execution_count": 9,
   "id": "fe6641ac",
   "metadata": {},
   "outputs": [
    {
     "data": {
      "text/html": [
       "<div>\n",
       "<style scoped>\n",
       "    .dataframe tbody tr th:only-of-type {\n",
       "        vertical-align: middle;\n",
       "    }\n",
       "\n",
       "    .dataframe tbody tr th {\n",
       "        vertical-align: top;\n",
       "    }\n",
       "\n",
       "    .dataframe thead th {\n",
       "        text-align: right;\n",
       "    }\n",
       "</style>\n",
       "<table border=\"1\" class=\"dataframe\">\n",
       "  <thead>\n",
       "    <tr style=\"text-align: right;\">\n",
       "      <th></th>\n",
       "      <th>Consumption</th>\n",
       "    </tr>\n",
       "  </thead>\n",
       "  <tbody>\n",
       "    <tr>\n",
       "      <th>count</th>\n",
       "      <td>397.000000</td>\n",
       "    </tr>\n",
       "    <tr>\n",
       "      <th>mean</th>\n",
       "      <td>88.847218</td>\n",
       "    </tr>\n",
       "    <tr>\n",
       "      <th>std</th>\n",
       "      <td>15.387834</td>\n",
       "    </tr>\n",
       "    <tr>\n",
       "      <th>min</th>\n",
       "      <td>55.315100</td>\n",
       "    </tr>\n",
       "    <tr>\n",
       "      <th>25%</th>\n",
       "      <td>77.105200</td>\n",
       "    </tr>\n",
       "    <tr>\n",
       "      <th>50%</th>\n",
       "      <td>89.779500</td>\n",
       "    </tr>\n",
       "    <tr>\n",
       "      <th>75%</th>\n",
       "      <td>100.524400</td>\n",
       "    </tr>\n",
       "    <tr>\n",
       "      <th>max</th>\n",
       "      <td>129.404800</td>\n",
       "    </tr>\n",
       "  </tbody>\n",
       "</table>\n",
       "</div>"
      ],
      "text/plain": [
       "       Consumption\n",
       "count   397.000000\n",
       "mean     88.847218\n",
       "std      15.387834\n",
       "min      55.315100\n",
       "25%      77.105200\n",
       "50%      89.779500\n",
       "75%     100.524400\n",
       "max     129.404800"
      ]
     },
     "execution_count": 9,
     "metadata": {},
     "output_type": "execute_result"
    }
   ],
   "source": [
    "df.describe()"
   ]
  },
  {
   "cell_type": "code",
   "execution_count": 10,
   "id": "34c614ab",
   "metadata": {},
   "outputs": [
    {
     "name": "stdout",
     "output_type": "stream",
     "text": [
      "<class 'pandas.core.frame.DataFrame'>\n",
      "DatetimeIndex: 397 entries, 1985-01-01 to 2018-01-01\n",
      "Data columns (total 1 columns):\n",
      " #   Column       Non-Null Count  Dtype  \n",
      "---  ------       --------------  -----  \n",
      " 0   Consumption  397 non-null    float64\n",
      "dtypes: float64(1)\n",
      "memory usage: 6.2 KB\n"
     ]
    }
   ],
   "source": [
    "df.info()"
   ]
  },
  {
   "cell_type": "markdown",
   "id": "44e77f80",
   "metadata": {},
   "source": [
    "PERFORMING SEASONAL DECOMPOSITION TO REMOVE THE SEASONAL COMPONENT"
   ]
  },
  {
   "cell_type": "code",
   "execution_count": 11,
   "id": "b92b1b55",
   "metadata": {},
   "outputs": [
    {
     "name": "stdout",
     "output_type": "stream",
     "text": [
      "            1985-01-01 00:00:00  1985-01-02 00:00:00  1985-01-03 00:00:00  \\\n",
      "Date                                                                        \n",
      "1985-01-01                  NaN                  NaN                  NaN   \n",
      "1985-01-02                  NaN                  NaN                  NaN   \n",
      "1985-01-03                  NaN                  NaN                  NaN   \n",
      "1985-01-04                  NaN                  NaN                  NaN   \n",
      "1985-01-05                  NaN                  NaN                  NaN   \n",
      "...                         ...                  ...                  ...   \n",
      "2017-01-09                  NaN                  NaN                  NaN   \n",
      "2017-01-10                  NaN                  NaN                  NaN   \n",
      "2017-01-11                  NaN                  NaN                  NaN   \n",
      "2017-01-12                  NaN                  NaN                  NaN   \n",
      "2018-01-01                  NaN                  NaN                  NaN   \n",
      "\n",
      "            1985-01-04 00:00:00  1985-01-05 00:00:00  1985-01-06 00:00:00  \\\n",
      "Date                                                                        \n",
      "1985-01-01                  NaN                  NaN                  NaN   \n",
      "1985-01-02                  NaN                  NaN                  NaN   \n",
      "1985-01-03                  NaN                  NaN                  NaN   \n",
      "1985-01-04                  NaN                  NaN                  NaN   \n",
      "1985-01-05                  NaN                  NaN                  NaN   \n",
      "...                         ...                  ...                  ...   \n",
      "2017-01-09                  NaN                  NaN                  NaN   \n",
      "2017-01-10                  NaN                  NaN                  NaN   \n",
      "2017-01-11                  NaN                  NaN                  NaN   \n",
      "2017-01-12                  NaN                  NaN                  NaN   \n",
      "2018-01-01                  NaN                  NaN                  NaN   \n",
      "\n",
      "            1985-01-07 00:00:00  1985-01-08 00:00:00  1985-01-09 00:00:00  \\\n",
      "Date                                                                        \n",
      "1985-01-01                  NaN                  NaN                  NaN   \n",
      "1985-01-02                  NaN                  NaN                  NaN   \n",
      "1985-01-03                  NaN                  NaN                  NaN   \n",
      "1985-01-04                  NaN                  NaN                  NaN   \n",
      "1985-01-05                  NaN                  NaN                  NaN   \n",
      "...                         ...                  ...                  ...   \n",
      "2017-01-09                  NaN                  NaN                  NaN   \n",
      "2017-01-10                  NaN                  NaN                  NaN   \n",
      "2017-01-11                  NaN                  NaN                  NaN   \n",
      "2017-01-12                  NaN                  NaN                  NaN   \n",
      "2018-01-01                  NaN                  NaN                  NaN   \n",
      "\n",
      "            1985-01-10 00:00:00  ...  2017-01-05 00:00:00  \\\n",
      "Date                             ...                        \n",
      "1985-01-01                  NaN  ...                  NaN   \n",
      "1985-01-02                  NaN  ...                  NaN   \n",
      "1985-01-03                  NaN  ...                  NaN   \n",
      "1985-01-04                  NaN  ...                  NaN   \n",
      "1985-01-05                  NaN  ...                  NaN   \n",
      "...                         ...  ...                  ...   \n",
      "2017-01-09                  NaN  ...                  NaN   \n",
      "2017-01-10                  NaN  ...                  NaN   \n",
      "2017-01-11                  NaN  ...                  NaN   \n",
      "2017-01-12                  NaN  ...                  NaN   \n",
      "2018-01-01                  NaN  ...                  NaN   \n",
      "\n",
      "            2017-01-06 00:00:00  2017-01-07 00:00:00  2017-01-08 00:00:00  \\\n",
      "Date                                                                        \n",
      "1985-01-01                  NaN                  NaN                  NaN   \n",
      "1985-01-02                  NaN                  NaN                  NaN   \n",
      "1985-01-03                  NaN                  NaN                  NaN   \n",
      "1985-01-04                  NaN                  NaN                  NaN   \n",
      "1985-01-05                  NaN                  NaN                  NaN   \n",
      "...                         ...                  ...                  ...   \n",
      "2017-01-09                  NaN                  NaN                  NaN   \n",
      "2017-01-10                  NaN                  NaN                  NaN   \n",
      "2017-01-11                  NaN                  NaN                  NaN   \n",
      "2017-01-12                  NaN                  NaN                  NaN   \n",
      "2018-01-01                  NaN                  NaN                  NaN   \n",
      "\n",
      "            2017-01-09 00:00:00  2017-01-10 00:00:00  2017-01-11 00:00:00  \\\n",
      "Date                                                                        \n",
      "1985-01-01                  NaN                  NaN                  NaN   \n",
      "1985-01-02                  NaN                  NaN                  NaN   \n",
      "1985-01-03                  NaN                  NaN                  NaN   \n",
      "1985-01-04                  NaN                  NaN                  NaN   \n",
      "1985-01-05                  NaN                  NaN                  NaN   \n",
      "...                         ...                  ...                  ...   \n",
      "2017-01-09                  NaN                  NaN                  NaN   \n",
      "2017-01-10                  NaN                  NaN                  NaN   \n",
      "2017-01-11                  NaN                  NaN                  NaN   \n",
      "2017-01-12                  NaN                  NaN                  NaN   \n",
      "2018-01-01                  NaN                  NaN                  NaN   \n",
      "\n",
      "            2017-01-12 00:00:00  2018-01-01 00:00:00  Consumption  \n",
      "Date                                                               \n",
      "1985-01-01                  NaN                  NaN          NaN  \n",
      "1985-01-02                  NaN                  NaN          NaN  \n",
      "1985-01-03                  NaN                  NaN          NaN  \n",
      "1985-01-04                  NaN                  NaN          NaN  \n",
      "1985-01-05                  NaN                  NaN          NaN  \n",
      "...                         ...                  ...          ...  \n",
      "2017-01-09                  NaN                  NaN          NaN  \n",
      "2017-01-10                  NaN                  NaN          NaN  \n",
      "2017-01-11                  NaN                  NaN          NaN  \n",
      "2017-01-12                  NaN                  NaN          NaN  \n",
      "2018-01-01                  NaN                  NaN          NaN  \n",
      "\n",
      "[397 rows x 398 columns]\n"
     ]
    }
   ],
   "source": [
    "# Perform seasonal decomposition on the data\n",
    "decomposition = sm.tsa.seasonal_decompose(df, model='additive', period=12)\n",
    "\n",
    "# Get the seasonal component of the data\n",
    "seasonal = decomposition.seasonal\n",
    "\n",
    "# Remove the seasonal component from the data\n",
    "data_without_seasonality = df - seasonal\n",
    "\n",
    "# Print the data without the seasonal component\n",
    "print(data_without_seasonality)"
   ]
  },
  {
   "cell_type": "code",
   "execution_count": 12,
   "id": "c34c76be",
   "metadata": {},
   "outputs": [
    {
     "data": {
      "text/plain": [
       "[<matplotlib.lines.Line2D at 0x20a7a06bfd0>]"
      ]
     },
     "execution_count": 12,
     "metadata": {},
     "output_type": "execute_result"
    },
    {
     "data": {
      "image/png": "[encoded data removed]",
      "text/plain": [
       "<Figure size 720x432 with 1 Axes>"
      ]
     },
     "metadata": {
      "needs_background": "light"
     },
     "output_type": "display_data"
    }
   ],
   "source": [
    "fig = plt.figure(figsize=(10, 6))\n",
    "plt.xlabel(\"Date\")\n",
    "plt.ylabel(\"Consumption\")\n",
    "plt.title(\"production graph\")\n",
    "plt.plot(df)"
   ]
  },
  {
   "cell_type": "markdown",
   "id": "5d82f8bb",
   "metadata": {},
   "source": [
    "A series needs to be stationary for time series forecasting which means the series should have a constant mean, variance and covariance.\n",
    "\n",
    "As we can clearly see an upward trend in the above graph, it is understood that the mean is not constant.\n",
    "\n",
    "Since, we have identified that the series is not stationary, we have to stationarise in order to do time series forecasting.\n",
    "So we will try to convert this into a stationary series.\n",
    "\n",
    "\n",
    "Let's plot a scatter plot:\n"
   ]
  },
  {
   "cell_type": "code",
   "execution_count": 13,
   "id": "4cdc880d",
   "metadata": {},
   "outputs": [
    {
     "data": {
      "image/png": "[encoded data removed]",
      "text/plain": [
       "<Figure size 720x432 with 1 Axes>"
      ]
     },
     "metadata": {
      "needs_background": "light"
     },
     "output_type": "display_data"
    }
   ],
   "source": [
    "fig = plt.figure(figsize=(10, 6))\n",
    "df.plot(style='k.',ax=fig.gca())\n",
    "plt.show()"
   ]
  },
  {
   "cell_type": "markdown",
   "id": "8e2e6780",
   "metadata": {},
   "source": [
    "PERFORMING THE AUGMENTED DICKEY FULLER TEST"
   ]
  },
  {
   "cell_type": "markdown",
   "id": "a5c01566",
   "metadata": {},
   "source": [
    "ADF (Augmented Dickey-Fuller) Test\n",
    "The Dickey-Fuller test is one of the most popular statistical tests. It can be used to determine the presence of unit root in the series, and hence help us understand if the series is stationary or not. The null and alternate hypothesis of this test is:\n",
    "\n",
    "Null Hypothesis: The series has a unit root (value of a =1)\n",
    "\n",
    "Alternate Hypothesis: The series has no unit root.\n",
    "\n",
    "If we fail to reject the null hypothesis, we can say that the series is non-stationary. This means that the series can be linear or difference stationary (we will understand more about difference stationary in the next section).\n",
    "\n",
    "If both mean and standard deviation are flat lines(constant mean and constant variance), the series becomes stationary.\n",
    "\n",
    "The following function is one that can plot a series with its rolling mean and standard deviation."
   ]
  },
  {
   "cell_type": "code",
   "execution_count": 14,
   "id": "aed84a66",
   "metadata": {},
   "outputs": [],
   "source": [
    "data = df['Consumption']"
   ]
  },
  {
   "cell_type": "code",
   "execution_count": 15,
   "id": "799fbb67",
   "metadata": {},
   "outputs": [],
   "source": [
    "result = adfuller(data)"
   ]
  },
  {
   "cell_type": "code",
   "execution_count": 16,
   "id": "adb0c1ae",
   "metadata": {
    "scrolled": false
   },
   "outputs": [
    {
     "data": {
      "image/png": "[encoded data removed]",
      "text/plain": [
       "<Figure size 720x432 with 1 Axes>"
      ]
     },
     "metadata": {
      "needs_background": "light"
     },
     "output_type": "display_data"
    },
    {
     "name": "stdout",
     "output_type": "stream",
     "text": [
      "ADF Statistic: -2.256990\n",
      "p-value: 0.186215\n"
     ]
    }
   ],
   "source": [
    "window_size = 30 # the size of the rolling window\n",
    "rolling_mean = data.rolling(window=window_size).mean()\n",
    "rolling_std = data.rolling(window=window_size).std()\n",
    "\n",
    "fig = plt.figure(figsize=(10, 6))\n",
    "plt.plot(data)\n",
    "plt.plot(rolling_mean, color='red')\n",
    "plt.plot(rolling_std, color='green')\n",
    "plt.legend(['Data','Rolling Mean', 'Rolling Std'])\n",
    "plt.show()\n",
    "\n",
    "# Print the test statistic and p-value\n",
    "print('ADF Statistic: %f' % result[0])\n",
    "print('p-value: %f' % result[1])"
   ]
  },
  {
   "cell_type": "markdown",
   "id": "1870346c",
   "metadata": {},
   "source": [
    "It is observed through the above graph that the rolling mean is increasing so we can conclude that are series is not stationary.\n",
    "\n",
    "We can also see that the p-value is also greater than 0.05 which means that the null hypothesis cannot be rejected.\n",
    "Therefore the series is non-stationary.\n",
    "\n"
   ]
  },
  {
   "cell_type": "code",
   "execution_count": 17,
   "id": "37d86727",
   "metadata": {},
   "outputs": [
    {
     "name": "stdout",
     "output_type": "stream",
     "text": [
      "The data is non-stationary.\n"
     ]
    }
   ],
   "source": [
    "# Interpret the results\n",
    "if result[1] > 0.05:\n",
    "    print('The data is non-stationary.')\n",
    "else:\n",
    "    print('The data is stationary.')"
   ]
  },
  {
   "cell_type": "markdown",
   "id": "5d5a4098",
   "metadata": {},
   "source": [
    "To get a stationary series, we need to eliminate the trend and seasonality from the series."
   ]
  },
  {
   "cell_type": "code",
   "execution_count": 18,
   "id": "e161fd15",
   "metadata": {},
   "outputs": [
    {
     "data": {
      "text/plain": [
       "count    396.000000\n",
       "mean       0.143686\n",
       "std        7.764483\n",
       "min      -15.756000\n",
       "25%       -6.208400\n",
       "50%       -0.045050\n",
       "75%        6.292800\n",
       "max       21.551600\n",
       "Name: Consumption, dtype: float64"
      ]
     },
     "execution_count": 18,
     "metadata": {},
     "output_type": "execute_result"
    }
   ],
   "source": [
    "data_diff = data.diff().dropna()\n",
    "data_diff.describe()"
   ]
  },
  {
   "cell_type": "code",
   "execution_count": 19,
   "id": "108b3435",
   "metadata": {},
   "outputs": [],
   "source": [
    "result=adfuller(data_diff)"
   ]
  },
  {
   "cell_type": "markdown",
   "id": "2c3954b3",
   "metadata": {},
   "source": [
    "CALCULATING THE ROLLING MEAN AND STANDARD DEVIATION"
   ]
  },
  {
   "cell_type": "code",
   "execution_count": 20,
   "id": "9136406a",
   "metadata": {},
   "outputs": [
    {
     "data": {
      "image/png": "[encoded data removed]",
      "text/plain": [
       "<Figure size 720x432 with 1 Axes>"
      ]
     },
     "metadata": {
      "needs_background": "light"
     },
     "output_type": "display_data"
    },
    {
     "name": "stdout",
     "output_type": "stream",
     "text": [
      "ADF Statistic: -7.104891\n",
      "p-value: 0.000000\n"
     ]
    }
   ],
   "source": [
    "window_size = 30 # the size of the rolling window\n",
    "rolling_mean = data_diff.rolling(window=window_size).mean()\n",
    "rolling_std = data_diff.rolling(window=window_size).std()\n",
    "\n",
    "# Plot the data and the rolling mean/std\n",
    "fig = plt.figure(figsize=(10, 6))\n",
    "plt.plot(data_diff)\n",
    "plt.plot(rolling_mean, color='red')\n",
    "plt.plot(rolling_std, color='green')\n",
    "plt.legend(['Data', 'Rolling Mean', 'Rolling Std'])\n",
    "plt.show()\n",
    "\n",
    "# Print the test statistic and p-value\n",
    "print('ADF Statistic: %f' % result[0])\n",
    "print('p-value: %f' % result[1])"
   ]
  },
  {
   "cell_type": "markdown",
   "id": "2e9c5a6f",
   "metadata": {},
   "source": [
    "From the above graph, we can observe that the data has been stationarized.\n",
    "Now the p-value is less than 0.05"
   ]
  },
  {
   "cell_type": "code",
   "execution_count": 21,
   "id": "bb01958a",
   "metadata": {},
   "outputs": [
    {
     "name": "stdout",
     "output_type": "stream",
     "text": [
      "The data is stationary.\n"
     ]
    }
   ],
   "source": [
    "# Interpret the results\n",
    "if result[1] > 0.05:\n",
    "    print('The data is non-stationary.')\n",
    "else:\n",
    "    print('The data is stationary.')"
   ]
  },
  {
   "cell_type": "code",
   "execution_count": 22,
   "id": "becbc78d",
   "metadata": {},
   "outputs": [
    {
     "name": "stdout",
     "output_type": "stream",
     "text": [
      "Number of rows: 396\n"
     ]
    }
   ],
   "source": [
    "# Get the number of rows in the DataFrame\n",
    "num_rows = data_diff.shape[0]\n",
    "\n",
    "# Print the number of rows\n",
    "print(\"Number of rows:\", num_rows)"
   ]
  },
  {
   "cell_type": "markdown",
   "id": "e0c706da",
   "metadata": {},
   "source": [
    "SPLITTING THE DATASET INTO TRAINING AND TESTING "
   ]
  },
  {
   "cell_type": "code",
   "execution_count": 23,
   "id": "0fd040e7",
   "metadata": {},
   "outputs": [],
   "source": [
    "train_data = data_diff[:317]\n",
    "test_data = data_diff[317:]"
   ]
  },
  {
   "cell_type": "code",
   "execution_count": 24,
   "id": "cb43f972",
   "metadata": {},
   "outputs": [
    {
     "name": "stdout",
     "output_type": "stream",
     "text": [
      "Train: Date\n",
      "2011-01-02   -12.1127\n",
      "2011-01-03    -8.2725\n",
      "2011-01-04    -9.7445\n",
      "2011-01-05     0.7115\n",
      "2011-01-06    12.7506\n",
      "Name: Consumption, dtype: float64\n"
     ]
    }
   ],
   "source": [
    "print(\"Train:\",train_data.tail())"
   ]
  },
  {
   "cell_type": "code",
   "execution_count": 25,
   "id": "8b9e8a38",
   "metadata": {},
   "outputs": [
    {
     "name": "stdout",
     "output_type": "stream",
     "text": [
      "Test Date\n",
      "2011-01-07    11.8864\n",
      "2011-01-08    -1.1110\n",
      "2011-01-09   -14.1246\n",
      "2011-01-10    -9.1146\n",
      "2011-01-11     3.4529\n",
      "Name: Consumption, dtype: float64\n"
     ]
    }
   ],
   "source": [
    "print(\"Test\",test_data.head())"
   ]
  },
  {
   "cell_type": "code",
   "execution_count": 26,
   "id": "239014c7",
   "metadata": {},
   "outputs": [
    {
     "data": {
      "text/plain": [
       "396"
      ]
     },
     "execution_count": 26,
     "metadata": {},
     "output_type": "execute_result"
    }
   ],
   "source": [
    "len(data_diff)"
   ]
  },
  {
   "cell_type": "code",
   "execution_count": 27,
   "id": "4d1b6f7f",
   "metadata": {},
   "outputs": [
    {
     "data": {
      "text/plain": [
       "317"
      ]
     },
     "execution_count": 27,
     "metadata": {},
     "output_type": "execute_result"
    }
   ],
   "source": [
    "len(train_data)"
   ]
  },
  {
   "cell_type": "code",
   "execution_count": 28,
   "id": "297441d5",
   "metadata": {},
   "outputs": [
    {
     "data": {
      "text/plain": [
       "79"
      ]
     },
     "execution_count": 28,
     "metadata": {},
     "output_type": "execute_result"
    }
   ],
   "source": [
    "len(test_data)"
   ]
  },
  {
   "cell_type": "markdown",
   "id": "2aa583c9",
   "metadata": {},
   "source": [
    "INTRODUCING THE ARIMA MODEL:\n",
    "\n",
    "Inorder to find the p and q values, we need to look where the graph cuts off the origin or drops to zero for the first time.\n",
    "From the above graph, it is observed that the graph cuts off the origin when p value was close to 3.\n",
    "After finding the p,d and q values, the values are substituted in the ARIMA model.\n"
   ]
  },
  {
   "cell_type": "code",
   "execution_count": 29,
   "id": "62c8c94e",
   "metadata": {},
   "outputs": [
    {
     "name": "stderr",
     "output_type": "stream",
     "text": [
      "C:\\ProgramData\\Anaconda3\\lib\\site-packages\\statsmodels\\tsa\\base\\tsa_model.py:471: ValueWarning: A date index has been provided, but it has no associated frequency information and so will be ignored when e.g. forecasting.\n",
      "  self._init_dates(dates, freq)\n",
      "C:\\ProgramData\\Anaconda3\\lib\\site-packages\\statsmodels\\tsa\\base\\tsa_model.py:471: ValueWarning: A date index has been provided, but it has no associated frequency information and so will be ignored when e.g. forecasting.\n",
      "  self._init_dates(dates, freq)\n",
      "C:\\ProgramData\\Anaconda3\\lib\\site-packages\\statsmodels\\tsa\\base\\tsa_model.py:471: ValueWarning: A date index has been provided, but it has no associated frequency information and so will be ignored when e.g. forecasting.\n",
      "  self._init_dates(dates, freq)\n"
     ]
    },
    {
     "name": "stdout",
     "output_type": "stream",
     "text": [
      "                               SARIMAX Results                                \n",
      "==============================================================================\n",
      "Dep. Variable:            Consumption   No. Observations:                  317\n",
      "Model:                 ARIMA(3, 0, 5)   Log Likelihood                -803.955\n",
      "Date:                Tue, 16 May 2023   AIC                           1627.911\n",
      "Time:                        08:57:53   BIC                           1665.500\n",
      "Sample:                             0   HQIC                          1642.926\n",
      "                                - 317                                         \n",
      "Covariance Type:                  opg                                         \n",
      "==============================================================================\n",
      "                 coef    std err          z      P>|z|      [0.025      0.975]\n",
      "------------------------------------------------------------------------------\n",
      "const          0.1283      0.013      9.655      0.000       0.102       0.154\n",
      "ar.L1          0.0661      0.081      0.815      0.415      -0.093       0.225\n",
      "ar.L2         -0.0669      0.081     -0.831      0.406      -0.225       0.091\n",
      "ar.L3         -0.9325      0.081    -11.571      0.000      -1.090      -0.775\n",
      "ma.L1         -0.4674      0.087     -5.352      0.000      -0.639      -0.296\n",
      "ma.L2         -0.4806      0.128     -3.758      0.000      -0.731      -0.230\n",
      "ma.L3          0.9333      0.100      9.356      0.000       0.738       1.129\n",
      "ma.L4         -0.3130      0.055     -5.735      0.000      -0.420      -0.206\n",
      "ma.L5         -0.5397      0.061     -8.792      0.000      -0.660      -0.419\n",
      "sigma2         9.1236      0.695     13.134      0.000       7.762      10.485\n",
      "===================================================================================\n",
      "Ljung-Box (L1) (Q):                   3.10   Jarque-Bera (JB):                 8.31\n",
      "Prob(Q):                              0.08   Prob(JB):                         0.02\n",
      "Heteroskedasticity (H):               1.74   Skew:                             0.30\n",
      "Prob(H) (two-sided):                  0.00   Kurtosis:                         3.52\n",
      "===================================================================================\n",
      "\n",
      "Warnings:\n",
      "[1] Covariance matrix calculated using the outer product of gradients (complex-step).\n"
     ]
    },
    {
     "name": "stderr",
     "output_type": "stream",
     "text": [
      "C:\\ProgramData\\Anaconda3\\lib\\site-packages\\statsmodels\\base\\model.py:604: ConvergenceWarning: Maximum Likelihood optimization failed to converge. Check mle_retvals\n",
      "  warnings.warn(\"Maximum Likelihood optimization failed to \"\n"
     ]
    }
   ],
   "source": [
    "p = 3\n",
    "d = 0\n",
    "q = 5\n",
    "order = (p, d, q)\n",
    "\n",
    "# Fit an ARIMA model to the training data\n",
    "model = ARIMA(train_data, order=(p, d, q))\n",
    "model_fit = model.fit()\n",
    "\n",
    "# Print a summary of the model fit\n",
    "print(model_fit.summary())"
   ]
  },
  {
   "cell_type": "code",
   "execution_count": 30,
   "id": "c40a3492",
   "metadata": {},
   "outputs": [
    {
     "name": "stderr",
     "output_type": "stream",
     "text": [
      "C:\\ProgramData\\Anaconda3\\lib\\site-packages\\statsmodels\\tsa\\base\\tsa_model.py:834: ValueWarning: No supported index is available. Prediction results will be given with an integer index beginning at `start`.\n",
      "  return get_prediction_index(\n"
     ]
    }
   ],
   "source": [
    "#using the model to make predictions on testing data\n",
    "predictions = model_fit.forecast(steps=len(test_data))"
   ]
  },
  {
   "cell_type": "code",
   "execution_count": 31,
   "id": "c323a84f",
   "metadata": {},
   "outputs": [
    {
     "name": "stdout",
     "output_type": "stream",
     "text": [
      "RMSE: 3.99\n"
     ]
    }
   ],
   "source": [
    "# Calculate the root mean squared error (RMSE) of the predictions\n",
    "rmse = np.sqrt(mean_squared_error(test_data, predictions))\n",
    "\n",
    "# Print the RMSE\n",
    "print('RMSE: %.2f' % rmse)"
   ]
  },
  {
   "cell_type": "code",
   "execution_count": 32,
   "id": "7010dd37",
   "metadata": {},
   "outputs": [
    {
     "name": "stderr",
     "output_type": "stream",
     "text": [
      "C:\\ProgramData\\Anaconda3\\lib\\site-packages\\statsmodels\\tsa\\base\\tsa_model.py:834: ValueWarning: No supported index is available. Prediction results will be given with an integer index beginning at `start`.\n",
      "  return get_prediction_index(\n"
     ]
    }
   ],
   "source": [
    "future_forecast = model_fit.forecast(steps=12)"
   ]
  },
  {
   "cell_type": "code",
   "execution_count": 33,
   "id": "bad20656",
   "metadata": {},
   "outputs": [
    {
     "data": {
      "text/plain": [
       "317    10.995220\n",
       "318    -2.429144\n",
       "319   -11.731897\n",
       "320    -7.291460\n",
       "321     4.590520\n",
       "322    11.979429\n",
       "323     7.531484\n",
       "324    -4.337003\n",
       "325   -11.713571\n",
       "326    -7.258712\n",
       "327     4.596824\n",
       "328    11.960565\n",
       "Name: predicted_mean, dtype: float64"
      ]
     },
     "execution_count": 33,
     "metadata": {},
     "output_type": "execute_result"
    }
   ],
   "source": [
    "future_forecast"
   ]
  },
  {
   "cell_type": "code",
   "execution_count": 34,
   "id": "db82a7ba",
   "metadata": {},
   "outputs": [
    {
     "data": {
      "image/png": "[encoded data removed]",
      "text/plain": [
       "<Figure size 720x432 with 1 Axes>"
      ]
     },
     "metadata": {
      "needs_background": "light"
     },
     "output_type": "display_data"
    }
   ],
   "source": [
    "fig = plt.figure(figsize=(10, 6))\n",
    "# Plot the actual test data and the predicted data\n",
    "plt.plot(test_data.index, test_data.values, label='Actual')\n",
    "plt.plot(test_data.index, predictions, label='Predicted')\n",
    "\n",
    "# Set the plot title and labels\n",
    "plt.title('Actual vs Predicted')\n",
    "plt.xlabel('Date')\n",
    "plt.ylabel('Consumption')\n",
    "\n",
    "# Add a legend to the plot\n",
    "plt.legend()\n",
    "\n",
    "# Show the plot\n",
    "plt.show()\n"
   ]
  },
  {
   "cell_type": "markdown",
   "id": "699874d1",
   "metadata": {},
   "source": [
    "MAKING FUTURE PREDICTION"
   ]
  },
  {
   "cell_type": "code",
   "execution_count": 46,
   "id": "aa23d7df",
   "metadata": {},
   "outputs": [
    {
     "name": "stderr",
     "output_type": "stream",
     "text": [
      "C:\\ProgramData\\Anaconda3\\lib\\site-packages\\statsmodels\\tsa\\base\\tsa_model.py:471: ValueWarning: A date index has been provided, but it has no associated frequency information and so will be ignored when e.g. forecasting.\n",
      "  self._init_dates(dates, freq)\n",
      "C:\\ProgramData\\Anaconda3\\lib\\site-packages\\statsmodels\\tsa\\base\\tsa_model.py:471: ValueWarning: A date index has been provided, but it has no associated frequency information and so will be ignored when e.g. forecasting.\n",
      "  self._init_dates(dates, freq)\n",
      "C:\\ProgramData\\Anaconda3\\lib\\site-packages\\statsmodels\\tsa\\base\\tsa_model.py:471: ValueWarning: A date index has been provided, but it has no associated frequency information and so will be ignored when e.g. forecasting.\n",
      "  self._init_dates(dates, freq)\n",
      "C:\\ProgramData\\Anaconda3\\lib\\site-packages\\statsmodels\\base\\model.py:604: ConvergenceWarning: Maximum Likelihood optimization failed to converge. Check mle_retvals\n",
      "  warnings.warn(\"Maximum Likelihood optimization failed to \"\n"
     ]
    }
   ],
   "source": [
    "# Fit an ARIMA model to the data\n",
    "model = ARIMA(data, order=(p, d, q))\n",
    "model_fit = model.fit()\n",
    "\n",
    "# Generate predictions for a specified number of future steps\n",
    "start_date = data.index[-1] + pd.DateOffset(days=1)\n",
    "end_date = data.index[-1] + pd.DateOffset(days=500)\n",
    "future_index = pd.date_range(start=start_date, end=end_date)"
   ]
  },
  {
   "cell_type": "code",
   "execution_count": 48,
   "id": "c33c2b65",
   "metadata": {},
   "outputs": [
    {
     "name": "stderr",
     "output_type": "stream",
     "text": [
      "C:\\ProgramData\\Anaconda3\\lib\\site-packages\\statsmodels\\tsa\\base\\tsa_model.py:834: ValueWarning: No supported index is available. Prediction results will be given with an integer index beginning at `start`.\n",
      "  return get_prediction_index(\n"
     ]
    },
    {
     "data": {
      "image/png": "[encoded data removed]",
      "text/plain": [
       "<Figure size 864x432 with 1 Axes>"
      ]
     },
     "metadata": {
      "needs_background": "light"
     },
     "output_type": "display_data"
    }
   ],
   "source": [
    "future_predictions = model_fit.get_forecast(steps=len(future_index))\n",
    "\n",
    "# Plot the predictions and confidence intervals\n",
    "fig, ax = plt.subplots(figsize=(12, 6))\n",
    "ax.plot(data.index, data, label='Actual')\n",
    "ax.plot(future_index, future_predictions.predicted_mean, label='Predicted')\n",
    "ax.fill_between(future_index,\n",
    "                future_predictions.conf_int().iloc[:, 0],\n",
    "                future_predictions.conf_int().iloc[:, 1],\n",
    "                color='gray', alpha=0.5)\n",
    "ax.legend()\n",
    "\n",
    "# Format the x-axis ticks to display date in \"dd-mm-yyyy\" format\n",
    "date_format = plt.matplotlib.dates.DateFormatter('%d-%m-%Y')\n",
    "ax.xaxis.set_major_formatter(date_format)\n",
    "fig.autofmt_xdate()  # Rotate and align the x-axis labels for better readability\n",
    "\n",
    "plt.show()"
   ]
  },
  {
   "cell_type": "code",
   "execution_count": null,
   "id": "8968858d",
   "metadata": {},
   "outputs": [],
   "source": []
  }
 ],
 "metadata": {
  "kernelspec": {
   "display_name": "Python 3 (ipykernel)",
   "language": "python",
   "name": "python3"
  },
  "language_info": {
   "codemirror_mode": {
    "name": "ipython",
    "version": 3
   },
   "file_extension": ".py",
   "mimetype": "text/x-python",
   "name": "python",
   "nbconvert_exporter": "python",
   "pygments_lexer": "ipython3",
   "version": "3.9.12"
  }
 },
 "nbformat": 4,
 "nbformat_minor": 5
}
